{
 "cells": [
  {
   "cell_type": "code",
   "execution_count": 8,
   "id": "c3d3fa29",
   "metadata": {},
   "outputs": [
    {
     "name": "stdout",
     "output_type": "stream",
     "text": [
      "Count of all characters in meghadhanake  is :\n",
      " {'m': 1, 'e': 2, 'g': 1, 'h': 2, 'a': 3, 'd': 1, 'n': 1, 'k': 1}\n"
     ]
    }
   ],
   "source": [
    "# frequency of string\n",
    "\n",
    "  \n",
    "# initializing string \n",
    "test_str = \"meghadhanake\"\n",
    "all_freq = {}\n",
    "  \n",
    "for i in test_str:\n",
    "    if i in all_freq:\n",
    "        all_freq[i] += 1\n",
    "    else:\n",
    "        all_freq[i] = 1\n",
    "  \n",
    "print (\"Count of all characters in meghadhanake  is :\\n \"\n",
    "                                        +  str(all_freq))\n"
   ]
  },
  {
   "cell_type": "code",
   "execution_count": null,
   "id": "c72a2635",
   "metadata": {},
   "outputs": [],
   "source": []
  }
 ],
 "metadata": {
  "kernelspec": {
   "display_name": "Python 3 (ipykernel)",
   "language": "python",
   "name": "python3"
  },
  "language_info": {
   "codemirror_mode": {
    "name": "ipython",
    "version": 3
   },
   "file_extension": ".py",
   "mimetype": "text/x-python",
   "name": "python",
   "nbconvert_exporter": "python",
   "pygments_lexer": "ipython3",
   "version": "3.9.12"
  }
 },
 "nbformat": 4,
 "nbformat_minor": 5
}
