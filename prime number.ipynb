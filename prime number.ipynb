{
 "cells": [
  {
   "cell_type": "code",
   "execution_count": 1,
   "id": "c645ab76",
   "metadata": {},
   "outputs": [
    {
     "name": "stdout",
     "output_type": "stream",
     "text": [
      "29 is a prime number\n"
     ]
    }
   ],
   "source": [
    "\n",
    "\n",
    "num = 29\n",
    "flag = False\n",
    "if num > 1:\n",
    "    \n",
    "    for i in range(2, num):\n",
    "        if (num % i) == 0:\n",
    "            \n",
    "            flag = True\n",
    "            \n",
    "            break\n",
    "\n",
    "\n",
    "if flag:\n",
    "    print(num, \"is not a prime number\")\n",
    "else:\n",
    "    print(num, \"is a prime number\")\n"
   ]
  },
  {
   "cell_type": "code",
   "execution_count": null,
   "id": "160d9e82",
   "metadata": {},
   "outputs": [],
   "source": []
  }
 ],
 "metadata": {
  "kernelspec": {
   "display_name": "Python 3 (ipykernel)",
   "language": "python",
   "name": "python3"
  },
  "language_info": {
   "codemirror_mode": {
    "name": "ipython",
    "version": 3
   },
   "file_extension": ".py",
   "mimetype": "text/x-python",
   "name": "python",
   "nbconvert_exporter": "python",
   "pygments_lexer": "ipython3",
   "version": "3.9.12"
  }
 },
 "nbformat": 4,
 "nbformat_minor": 5
}
