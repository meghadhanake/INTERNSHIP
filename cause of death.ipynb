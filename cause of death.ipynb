{
 "cells": [
  {
   "cell_type": "code",
   "execution_count": null,
   "id": "d2b8ea65",
   "metadata": {},
   "outputs": [],
   "source": [
    "import pandas as pd\n",
    "import matplotlib.pyplot as plt\n",
    "import numpy as np\n",
    "import seaborn as sns\n",
    "\n",
    "data = pd.read_csv('/Users/jarar_zaidi/Desktop/ML Projects/Practice Excel/who_suicide_statistics.csv')\n",
    "# look at 1st 5 data points\n",
    "data.head(5)"
   ]
  },
  {
   "cell_type": "code",
   "execution_count": null,
   "id": "31b77422",
   "metadata": {},
   "outputs": [],
   "source": [
    "data.info()"
   ]
  },
  {
   "cell_type": "code",
   "execution_count": null,
   "id": "b9720f20",
   "metadata": {},
   "outputs": [],
   "source": [
    "print(\"(Rows, columns): \" + str(data.shape))\n",
    "data.columns"
   ]
  },
  {
   "cell_type": "code",
   "execution_count": null,
   "id": "ffd5866a",
   "metadata": {},
   "outputs": [],
   "source": [
    "data.isna().sum()"
   ]
  },
  {
   "cell_type": "code",
   "execution_count": null,
   "id": "55ba1d3f",
   "metadata": {},
   "outputs": [],
   "source": [
    "data= data.fillna(0)\n",
    "data.isna().sum()"
   ]
  },
  {
   "cell_type": "code",
   "execution_count": null,
   "id": "4d433e69",
   "metadata": {},
   "outputs": [],
   "source": [
    "data['age'].unique()"
   ]
  },
  {
   "cell_type": "code",
   "execution_count": null,
   "id": "04dfce4b",
   "metadata": {},
   "outputs": [],
   "source": [
    "data['country'].unique()"
   ]
  },
  {
   "cell_type": "code",
   "execution_count": null,
   "id": "0e745c8f",
   "metadata": {},
   "outputs": [],
   "source": [
    "data['country'].unique()"
   ]
  },
  {
   "cell_type": "code",
   "execution_count": null,
   "id": "0a4c2679",
   "metadata": {},
   "outputs": [],
   "source": [
    "data['year'].unique()"
   ]
  },
  {
   "cell_type": "code",
   "execution_count": null,
   "id": "295e638a",
   "metadata": {},
   "outputs": [],
   "source": [
    "data['suicides_no'] = data['suicides_no'].replace(0,np.NAN)\n",
    "\n",
    "mean_value=data['suicides_no'].mean()\n",
    "data['suicides_no']=data['suicides_no'].fillna(mean_value)\n",
    "\n",
    "def find_minmax(x):\n",
    "     #use the function 'idmin' to find the index of lowest suicide\n",
    "    min_index = data[x].idxmin()\n",
    "    #use the function 'idmax' to find the index of Highest suicide\n",
    "    high_index = data[x].idxmax()\n",
    "    \n",
    "    high = pd.DataFrame(data.loc[high_index,:])\n",
    "    low = pd.DataFrame(data.loc[min_index,:])\n",
    "    \n",
    "    #print the Year with high and low suicide\n",
    "    print(\"Year Which Has Highest \"+ x + \" : \",data['year'][high_index])\n",
    "    print(\"Year Which Has Lowest \"+ x + \"  : \",data['year'][min_index])\n",
    "    return pd.concat([high,low],axis = 1)\n",
    "\n",
    "find_minmax('suicides_no')"
   ]
  },
  {
   "cell_type": "code",
   "execution_count": null,
   "id": "c3af821d",
   "metadata": {},
   "outputs": [],
   "source": [
    "# year-wise analysis of mean number sucidies of each year             data.groupby('year')['suicides_no'].mean().plot()  #setup the title and labels of the figure.\n",
    "plt.title(\"Year vs. Suicide Count\",fontsize = 14) \n",
    "plt.xlabel('Year',fontsize = 13) plt.ylabel('Suicide Count',fontsize = 13)  #setup the figure size. sns.set(rc={'figure.figsize':(10,5)}) sns.set_style(\"whitegrid\")"
   ]
  },
  {
   "cell_type": "code",
   "execution_count": null,
   "id": "aefd2427",
   "metadata": {},
   "outputs": [],
   "source": [
    "def find_minmax(x):\n",
    "     #use the function 'idmin' to find the index of lowest suicide\n",
    "    min_index = data[x].idxmin()\n",
    "    #use the function 'idmax' to find the index of Highest suicide\n",
    "    high_index = data[x].idxmax()\n",
    "    \n",
    "    high = pd.DataFrame(data.loc[high_index,:])\n",
    "    low = pd.DataFrame(data.loc[min_index,:])\n",
    "    \n",
    "    #print the country with high and low suicide\n",
    "    print(\"Country Which Has Highest \"+ x + \" : \",data['country'][high_index])\n",
    "    print(\"Country Which Has Lowest \"+ x + \"  : \",data['country'][min_index])\n",
    "    return pd.concat([low,high],axis = 1)\n",
    "\n",
    "find_minmax('suicides_no')"
   ]
  },
  {
   "cell_type": "code",
   "execution_count": null,
   "id": "535342fa",
   "metadata": {},
   "outputs": [],
   "source": [
    "# perform operation\n",
    "data['suicide_per_pop'] = data['suicides_no']/data['population']\n",
    "data.tail(3)"
   ]
  },
  {
   "cell_type": "code",
   "execution_count": null,
   "id": "4d3acd98",
   "metadata": {},
   "outputs": [],
   "source": [
    "data[‘suicide_per_pop’] = data.apply(lambda row: row.suicides_no / row.population, axis = 1)\n",
    "data.tail(3)"
   ]
  },
  {
   "cell_type": "code",
   "execution_count": null,
   "id": "b7094477",
   "metadata": {},
   "outputs": [],
   "source": [
    "find_minmax('suicide_per_pop')"
   ]
  },
  {
   "cell_type": "code",
   "execution_count": null,
   "id": "3faa635f",
   "metadata": {},
   "outputs": [],
   "source": [
    "sample = data.sample(3)\n",
    "sample"
   ]
  },
  {
   "cell_type": "code",
   "execution_count": null,
   "id": "9ad2d387",
   "metadata": {},
   "outputs": [],
   "source": [
    "# grabs first 2 chars from Age Column\n",
    "data['AgeNum'] = data['age'].str[:2]\n",
    "\n",
    "# remove all instances of dash -\n",
    "data['AgeNum'] = data['AgeNum'].map(lambda x: x.replace('-',''))\n",
    "\n",
    "# now, convert it to type int (not Object)\n",
    "data['AgeNum'] = data['AgeNum'].astype(int)\n",
    "\n",
    "data['AgeNum'].tail(3)"
   ]
  },
  {
   "cell_type": "code",
   "execution_count": null,
   "id": "e50518a8",
   "metadata": {},
   "outputs": [],
   "source": [
    "# creates Age Categories\n",
    "def AgeGroup(x):\n",
    "    if(x >= 60):\n",
    "        return \"Elderly\"\n",
    "    elif(x >= 30):\n",
    "        return \"Middle_Aged_Adults\"\n",
    "    elif(x >= 18):\n",
    "        return \"Adults\"\n",
    "    else:\n",
    "        return \"Adolescent\"\n",
    "# Map each row in the Col to the AgeGroup Method\n",
    "data['AgeCategory'] = data['AgeNum'].map(lambda x: AgeGroup(x))\n",
    "# convert it back to type String\n",
    "data['AgeCategory'] = data['AgeCategory'].astype(str)\n",
    "data['AgeCategory'].tail(3)"
   ]
  },
  {
   "cell_type": "code",
   "execution_count": null,
   "id": "eba397fb",
   "metadata": {},
   "outputs": [],
   "source": [
    "data['AgeNum'] .tail(3)"
   ]
  },
  {
   "cell_type": "code",
   "execution_count": null,
   "id": "495d812a",
   "metadata": {},
   "outputs": [],
   "source": [
    "data.head(3)"
   ]
  },
  {
   "cell_type": "code",
   "execution_count": null,
   "id": "bfa64280",
   "metadata": {},
   "outputs": [],
   "source": [
    "sns.catplot(x=\"AgeCategory\", y=\"suicides_no\",palette=\"ch:.25\", kind=\"bar\",data=data);\n",
    "\n",
    "plt.title('Age vs. Suicide Count',size=25)\n",
    "plt.xlabel('Age Category',size=20)\n",
    "plt.ylabel('Suicide Count',size=20)"
   ]
  },
  {
   "cell_type": "code",
   "execution_count": null,
   "id": "048cefcd",
   "metadata": {},
   "outputs": [],
   "source": [
    "# there is an equal number of Males & Females in our data\n",
    "data['sex'].value_counts()"
   ]
  },
  {
   "cell_type": "code",
   "execution_count": null,
   "id": "df7b8de1",
   "metadata": {},
   "outputs": [],
   "source": [
    "sns.catplot(x=\"sex\", y=\"suicides_no\", hue=\"AgeCategory\", kind=\"bar\", data=data);"
   ]
  },
  {
   "cell_type": "code",
   "execution_count": null,
   "id": "a5a9d870",
   "metadata": {},
   "outputs": [],
   "source": [
    "newData= data.loc[:,['year','sex','AgeNum','suicides_no']]\n",
    "newData.head(3)\n",
    "X = newData.iloc[:, :-1].values # grab the every col except last\n",
    "y = newData.iloc[:, -1].values # grab last col"
   ]
  },
  {
   "cell_type": "code",
   "execution_count": null,
   "id": "d7441fa1",
   "metadata": {},
   "outputs": [],
   "source": [
    "from sklearn.compose import ColumnTransformer\n",
    "from sklearn.preprocessing import OneHotEncoder\n",
    "ct = ColumnTransformer(transformers=[('encoder', OneHotEncoder(), [1])], remainder='passthrough')\n",
    "X = np.array(ct.fit_transform(X))"
   ]
  },
  {
   "cell_type": "code",
   "execution_count": null,
   "id": "4badf8f0",
   "metadata": {},
   "outputs": [],
   "source": [
    "from sklearn.model_selection import train_test_split\n",
    "x_train, x_test, y_train, y_test = train_test_split(X,y,test_size = 0.2, random_state = 1)"
   ]
  },
  {
   "cell_type": "code",
   "execution_count": null,
   "id": "0f054ba2",
   "metadata": {},
   "outputs": [],
   "source": [
    "from sklearn.linear_model import LinearRegression\n",
    "regressor = LinearRegression()\n",
    "regressor.fit(x_train, y_train)"
   ]
  },
  {
   "cell_type": "code",
   "execution_count": null,
   "id": "99b29cd9",
   "metadata": {},
   "outputs": [],
   "source": [
    "print(regressor.predict([[1,0,2001,55]]))"
   ]
  },
  {
   "cell_type": "code",
   "execution_count": null,
   "id": "b963a4be",
   "metadata": {},
   "outputs": [],
   "source": []
  },
  {
   "cell_type": "code",
   "execution_count": null,
   "id": "62e54a69",
   "metadata": {},
   "outputs": [],
   "source": []
  },
  {
   "cell_type": "code",
   "execution_count": null,
   "id": "0447b146",
   "metadata": {},
   "outputs": [],
   "source": []
  },
  {
   "cell_type": "code",
   "execution_count": null,
   "id": "cb19f9ea",
   "metadata": {},
   "outputs": [],
   "source": []
  },
  {
   "cell_type": "code",
   "execution_count": null,
   "id": "2d68440a",
   "metadata": {},
   "outputs": [],
   "source": []
  }
 ],
 "metadata": {
  "kernelspec": {
   "display_name": "Python 3 (ipykernel)",
   "language": "python",
   "name": "python3"
  },
  "language_info": {
   "codemirror_mode": {
    "name": "ipython",
    "version": 3
   },
   "file_extension": ".py",
   "mimetype": "text/x-python",
   "name": "python",
   "nbconvert_exporter": "python",
   "pygments_lexer": "ipython3",
   "version": "3.9.12"
  }
 },
 "nbformat": 4,
 "nbformat_minor": 5
}
