{
 "cells": [
  {
   "cell_type": "code",
   "execution_count": null,
   "id": "2849088b",
   "metadata": {},
   "outputs": [],
   "source": []
  },
  {
   "cell_type": "code",
   "execution_count": null,
   "id": "272c950b",
   "metadata": {},
   "outputs": [],
   "source": [
    "import pandas as pd\n",
    "import seaborn as sns\n",
    "import matplotlib.pyplot as plt\n",
    "import numpy as np\n",
    "import datetime as dt\n",
    "import missingno as msno\n",
    "from textwrap import wrap"
   ]
  },
  {
   "cell_type": "code",
   "execution_count": null,
   "id": "9e883d3e",
   "metadata": {},
   "outputs": [],
   "source": [
    "# Loading dataset\n",
    "transaction_df = pd.read_excel('transcations.xlsx')\n",
    "# View data\n",
    "transaction_df.head()"
   ]
  },
  {
   "cell_type": "code",
   "execution_count": null,
   "id": "b916e55b",
   "metadata": {},
   "outputs": [],
   "source": [
    "# Inspect missing values in the dataset\n",
    "print(transaction_df.isnull().values.sum())\n",
    "# Replace the ' 's with NaN\n",
    "transaction_df = transaction_df.replace(\" \",np.NaN)\n",
    "# Impute the missing values with mean imputation\n",
    "transaction_df = transaction_df.fillna(transaction_df.mean())\n",
    "# Count the number of NaNs in the dataset to verify\n",
    "print(transaction_df.isnull().values.sum())"
   ]
  },
  {
   "cell_type": "code",
   "execution_count": null,
   "id": "0636412a",
   "metadata": {},
   "outputs": [],
   "source": [
    "print(transaction_df.info())\n",
    "for col in transaction_df.columns:\n",
    "    # Check if the column is of object type\n",
    "    if transaction_df[col].dtypes == 'object':\n",
    "        # Impute with the most frequent value\n",
    "        transaction_df[col] = transaction_df[col].fillna(transaction_df[col].value_counts().index[0])\n",
    "# Count the number of NaNs in the dataset and print the counts to verify\n",
    "print(transaction_df.isnull().values.sum())"
   ]
  },
  {
   "cell_type": "code",
   "execution_count": null,
   "id": "957fce1c",
   "metadata": {},
   "outputs": [],
   "source": [
    "# A function that will parse the date Time based cohort:  1 day of month\n",
    "def get_month(x): return dt.datetime(x.year, x.month, 1) \n",
    "# Create transaction_date column based on month and store in TransactionMonth\n",
    "transaction_df['TransactionMonth'] = transaction_df['transaction_date'].apply(get_month) \n",
    "# Grouping by customer_id and select the InvoiceMonth value\n",
    "grouping = transaction_df.groupby('customer_id')['TransactionMonth'] \n",
    "# Assigning a minimum InvoiceMonth value to the dataset\n",
    "transaction_df['CohortMonth'] = grouping.transform('min')\n",
    "# printing top 5 rows\n",
    "print(transaction_df.head())"
   ]
  },
  {
   "cell_type": "code",
   "execution_count": null,
   "id": "57610133",
   "metadata": {},
   "outputs": [],
   "source": [
    "def get_date_int(df, column):\n",
    "    year = df[column].dt.year\n",
    "    month = df[column].dt.month\n",
    "    day = df[column].dt.day\n",
    "    return year, month, day\n",
    "# Getting the integers for date parts from the `InvoiceDay` column\n",
    "transcation_year, transaction_month, _ = get_date_int(transaction_df, 'TransactionMonth')\n",
    "# Getting the integers for date parts from the `CohortDay` column\n",
    "cohort_year, cohort_month, _ = get_date_int(transaction_df, 'CohortMonth')"
   ]
  },
  {
   "cell_type": "code",
   "execution_count": null,
   "id": "fe0d24a1",
   "metadata": {},
   "outputs": [],
   "source": [
    "#  Get the  difference in years\n",
    "years_diff = transcation_year - cohort_year\n",
    "# Calculate difference in months\n",
    "months_diff = transaction_month - cohort_month\n",
    "\"\"\" Extract the difference in months from all previous values\n",
    " \"+1\" in addeded at the end so that first month is marked as 1 instead of 0 for easier interpretation. \n",
    " \"\"\"\n",
    "transaction_df['CohortIndex'] = years_diff * 12 + months_diff  + 1 \n",
    "print(transaction_df.head(5))"
   ]
  },
  {
   "cell_type": "code",
   "execution_count": null,
   "id": "fd250e76",
   "metadata": {},
   "outputs": [],
   "source": [
    "# Counting daily active user from each chort\n",
    "grouping = transaction_df.groupby(['CohortMonth', 'CohortIndex'])\n",
    "# Counting number of unique customer Id's falling in each group of CohortMonth and CohortIndex\n",
    "cohort_data = grouping['customer_id'].apply(pd.Series.nunique)\n",
    "cohort_data = cohort_data.reset_index()\n",
    " # Assigning column names to the dataframe created above\n",
    "cohort_counts = cohort_data.pivot(index='CohortMonth',\n",
    "                                 columns ='CohortIndex',\n",
    "                                 values = 'customer_id')\n",
    "# Printing top 5 rows of Dataframe\n",
    "cohort_data.head()"
   ]
  },
  {
   "cell_type": "code",
   "execution_count": null,
   "id": "ffa48a14",
   "metadata": {},
   "outputs": [],
   "source": [
    "cohort_sizes = cohort_counts.iloc[:,0]\n",
    "retention = cohort_counts.divide(cohort_sizes, axis=0)\n",
    "# Coverting the retention rate into percentage and Rounding off.\n",
    "retention.round(3)*100"
   ]
  },
  {
   "cell_type": "code",
   "execution_count": null,
   "id": "2d340937",
   "metadata": {},
   "outputs": [],
   "source": [
    "average_standard_cost.index = average_standard_cost.index.strftime('%Y-%m')\n",
    "# Initialize the figure\n",
    "plt.figure(figsize=(16, 10))\n",
    "# Adding a title\n",
    "plt.title('Average Standard Cost: Monthly Cohorts', fontsize = 14)\n",
    "# Creating the heatmap\n",
    "sns.heatmap(average_standard_cost, annot = True,vmin = 0.0, vmax =20,cmap=\"YlGnBu\", fmt='g')\n",
    "plt.ylabel('Cohort Month')\n",
    "plt.xlabel('Cohort Index')\n",
    "plt.yticks( rotation='360')\n",
    "plt.show()"
   ]
  },
  {
   "cell_type": "code",
   "execution_count": null,
   "id": "f289767c",
   "metadata": {},
   "outputs": [],
   "source": []
  },
  {
   "cell_type": "code",
   "execution_count": null,
   "id": "880b8782",
   "metadata": {},
   "outputs": [],
   "source": []
  },
  {
   "cell_type": "code",
   "execution_count": null,
   "id": "6b924b39",
   "metadata": {},
   "outputs": [],
   "source": []
  }
 ],
 "metadata": {
  "kernelspec": {
   "display_name": "Python 3 (ipykernel)",
   "language": "python",
   "name": "python3"
  },
  "language_info": {
   "codemirror_mode": {
    "name": "ipython",
    "version": 3
   },
   "file_extension": ".py",
   "mimetype": "text/x-python",
   "name": "python",
   "nbconvert_exporter": "python",
   "pygments_lexer": "ipython3",
   "version": "3.9.12"
  }
 },
 "nbformat": 4,
 "nbformat_minor": 5
}
