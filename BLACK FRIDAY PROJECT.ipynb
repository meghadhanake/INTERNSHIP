{
 "cells": [
  {
   "cell_type": "code",
   "execution_count": null,
   "id": "7446e49b",
   "metadata": {},
   "outputs": [],
   "source": [
    "# This Python 3 environment comes with many helpful analytics libraries installed\n",
    "# It is defined by the kaggle/python docker image: https://github.com/kaggle/docker-python\n",
    "# For example, here's several helpful packages to load in \n",
    "\n",
    "import numpy as np # linear algebra\n",
    "import pandas as pd # data processing, CSV file I/O (e.g. pd.read_csv)\n",
    "\n",
    "# Input data files are available in the \"../input/\" directory.\n",
    "# For example, running this (by clicking run or pressing Shift+Enter) will list the files in the input directory\n",
    "\n",
    "import os\n",
    "print(os.listdir(\"../input\"))\n",
    "\n",
    "# Any results you write to the current directory are saved as output."
   ]
  },
  {
   "cell_type": "code",
   "execution_count": null,
   "id": "2ddbb87a",
   "metadata": {},
   "outputs": [],
   "source": [
    "import matplotlib.pyplot as plt\n",
    "import seaborn as sns\n",
    "dataset=pd.read_csv('../input/BlackFriday.csv')\n",
    "dataset.head()"
   ]
  },
  {
   "cell_type": "code",
   "execution_count": null,
   "id": "37f21d90",
   "metadata": {},
   "outputs": [],
   "source": [
    "dataset.info()"
   ]
  },
  {
   "cell_type": "code",
   "execution_count": null,
   "id": "449bda0a",
   "metadata": {},
   "outputs": [],
   "source": [
    "dataset.describe()"
   ]
  },
  {
   "cell_type": "code",
   "execution_count": null,
   "id": "56e12583",
   "metadata": {},
   "outputs": [],
   "source": [
    "from sklearn.preprocessing import Imputer\n",
    "imputer = Imputer(missing_values = 'NaN', strategy = 'mean', axis = 0)\n",
    "imputer = imputer.fit(dataset.iloc[:, 9:11].values)\n",
    "dataset.iloc[:,9:11] = imputer.transform(dataset.iloc[:, 9:11].values)\n",
    "dataset.info() "
   ]
  },
  {
   "cell_type": "code",
   "execution_count": null,
   "id": "deec9e35",
   "metadata": {},
   "outputs": [],
   "source": [
    "dataset.drop(['User_ID','Product_ID'], axis=1, inplace=True)\n",
    "dataset.info()"
   ]
  },
  {
   "cell_type": "code",
   "execution_count": null,
   "id": "25edeebb",
   "metadata": {},
   "outputs": [],
   "source": [
    "dataset.head()"
   ]
  },
  {
   "cell_type": "code",
   "execution_count": null,
   "id": "9ad71d3f",
   "metadata": {},
   "outputs": [],
   "source": [
    "dataset['Age']=(dataset['Age'].str.strip('+'))"
   ]
  },
  {
   "cell_type": "code",
   "execution_count": null,
   "id": "b22321cc",
   "metadata": {},
   "outputs": [],
   "source": [
    "dataset['Stay_In_Current_City_Years']=(dataset['Stay_In_Current_City_Years'].str.strip('+').astype('float'))"
   ]
  },
  {
   "cell_type": "code",
   "execution_count": null,
   "id": "690e13e6",
   "metadata": {},
   "outputs": [],
   "source": [
    "dataset.info()\n",
    "dataset.head()"
   ]
  },
  {
   "cell_type": "code",
   "execution_count": null,
   "id": "bcb3664e",
   "metadata": {},
   "outputs": [],
   "source": [
    "sns.heatmap(\n",
    "    dataset.corr(),\n",
    "    annot=True\n",
    ")"
   ]
  },
  {
   "cell_type": "code",
   "execution_count": null,
   "id": "fd32e3d1",
   "metadata": {},
   "outputs": [],
   "source": [
    "g = sns.FacetGrid(dataset,col=\"Stay_In_Current_City_Years\")\n",
    "g.map(sns.barplot, \"Marital_Status\", \"Purchase\");"
   ]
  },
  {
   "cell_type": "code",
   "execution_count": null,
   "id": "7f10d09c",
   "metadata": {},
   "outputs": [],
   "source": [
    "sns.jointplot(x='Occupation',y='Purchase',\n",
    "              data=dataset, kind='hex'\n",
    "             )"
   ]
  },
  {
   "cell_type": "code",
   "execution_count": null,
   "id": "0c12b74e",
   "metadata": {},
   "outputs": [],
   "source": [
    "g = sns.FacetGrid(dataset,col=\"City_Category\")\n",
    "g.map(sns.barplot, \"Gender\", \"Purchase\");"
   ]
  },
  {
   "cell_type": "code",
   "execution_count": null,
   "id": "486982db",
   "metadata": {},
   "outputs": [],
   "source": [
    "g = sns.FacetGrid(dataset,col=\"Age\",row=\"City_Category\")\n",
    "g.map(sns.barplot, \"Gender\", \"Purchase\");"
   ]
  },
  {
   "cell_type": "code",
   "execution_count": null,
   "id": "df7b9452",
   "metadata": {},
   "outputs": [],
   "source": [
    "sns.violinplot(x='City_Category',y='Purchase',hue='Marital_Status',\n",
    "               data=dataset)"
   ]
  },
  {
   "cell_type": "code",
   "execution_count": null,
   "id": "3eeac2bf",
   "metadata": {},
   "outputs": [],
   "source": [
    "fig, axes = plt.subplots(nrows=2, ncols=2,figsize=(18,14))\n",
    "ax = sns.pointplot(y='Product_Category_1', x='City_Category',hue='Age',\n",
    "                 data=dataset,\n",
    "                 ax=axes[0,0]\n",
    "                )\n",
    "ax = sns.pointplot(y='Product_Category_2', x='City_Category',hue='Age',\n",
    "                 data=dataset,\n",
    "                 ax=axes[0,1]\n",
    "                )\n",
    "ax = sns.pointplot(y='Product_Category_3', x='City_Category', hue='Age',\n",
    "                 data=dataset,\n",
    "                 ax=axes[1,0]\n",
    "                )\n",
    "ax = sns.pointplot(y='Purchase', x='City_Category', hue='Age',\n",
    "                 data=dataset,\n",
    "                 ax=axes[1,1]\n",
    "                )"
   ]
  },
  {
   "cell_type": "code",
   "execution_count": null,
   "id": "89f12564",
   "metadata": {},
   "outputs": [],
   "source": [
    "#Dividing the data into test and train datasets\n",
    "X = dataset.iloc[:, 0:9].values\n",
    "y = dataset.iloc[:, 9].values\n",
    "from sklearn.model_selection import train_test_split\n",
    "X_train, X_test, y_train, y_test = train_test_split(X, y, test_size = 0.2, random_state = 0)"
   ]
  },
  {
   "cell_type": "code",
   "execution_count": null,
   "id": "d251998b",
   "metadata": {},
   "outputs": [],
   "source": [
    "X_train"
   ]
  },
  {
   "cell_type": "code",
   "execution_count": null,
   "id": "93aba960",
   "metadata": {},
   "outputs": [],
   "source": [
    "y_train"
   ]
  },
  {
   "cell_type": "code",
   "execution_count": null,
   "id": "dbd39955",
   "metadata": {},
   "outputs": [],
   "source": [
    "X_test"
   ]
  },
  {
   "cell_type": "code",
   "execution_count": null,
   "id": "8bfb2757",
   "metadata": {},
   "outputs": [],
   "source": [
    "y_test"
   ]
  },
  {
   "cell_type": "code",
   "execution_count": null,
   "id": "8b7f4d33",
   "metadata": {},
   "outputs": [],
   "source": [
    "from sklearn.preprocessing import LabelEncoder\n",
    "labelencoder_X_train = LabelEncoder()\n",
    "X_train"
   ]
  },
  {
   "cell_type": "code",
   "execution_count": null,
   "id": "aa1879ce",
   "metadata": {},
   "outputs": [],
   "source": [
    "X_train[:, 0] = labelencoder_X_train.fit_transform(X_train[:, 0])\n",
    "X_train"
   ]
  },
  {
   "cell_type": "code",
   "execution_count": null,
   "id": "265eba12",
   "metadata": {},
   "outputs": [],
   "source": [
    "X_train[:, 1] = labelencoder_X_train.fit_transform(X_train[:, 1])\n",
    "X_train"
   ]
  },
  {
   "cell_type": "code",
   "execution_count": null,
   "id": "52a70b15",
   "metadata": {},
   "outputs": [],
   "source": [
    "X_train[:, 3] = labelencoder_X_train.fit_transform(X_train[:, 3])\n",
    "X_train"
   ]
  },
  {
   "cell_type": "code",
   "execution_count": null,
   "id": "227bfe1b",
   "metadata": {},
   "outputs": [],
   "source": [
    "labelencoder_X_test = LabelEncoder()\n",
    "X_test"
   ]
  },
  {
   "cell_type": "code",
   "execution_count": null,
   "id": "8c246ab7",
   "metadata": {},
   "outputs": [],
   "source": [
    "X_test[:, 0] = labelencoder_X_test.fit_transform(X_test[:, 0])\n",
    "X_test"
   ]
  },
  {
   "cell_type": "code",
   "execution_count": null,
   "id": "f9403413",
   "metadata": {},
   "outputs": [],
   "source": [
    "X_test[:, 1] = labelencoder_X_test.fit_transform(X_test[:, 1])\n",
    "X_test"
   ]
  },
  {
   "cell_type": "code",
   "execution_count": null,
   "id": "04d0bdb2",
   "metadata": {},
   "outputs": [],
   "source": [
    "X_test[:, 3] = labelencoder_X_test.fit_transform(X_test[:, 3])\n",
    "X_test"
   ]
  },
  {
   "cell_type": "code",
   "execution_count": null,
   "id": "d7cdcbf1",
   "metadata": {},
   "outputs": [],
   "source": [
    "# Feature Scaling of training and test set\n",
    "from sklearn.preprocessing import StandardScaler\n",
    "sc_X_train = StandardScaler()\n",
    "X_train = sc_X_train.fit_transform(X_train)\n",
    "\n",
    "sc_X_test = StandardScaler()\n",
    "X_test = sc_X_test.fit_transform(X_test)"
   ]
  },
  {
   "cell_type": "code",
   "execution_count": null,
   "id": "469bbc27",
   "metadata": {},
   "outputs": [],
   "source": [
    "#Fitting the model\n",
    "from sklearn.ensemble import RandomForestRegressor\n",
    "\n",
    "from sklearn.metrics import mean_absolute_error"
   ]
  },
  {
   "cell_type": "code",
   "execution_count": null,
   "id": "1a384192",
   "metadata": {},
   "outputs": [],
   "source": [
    "# compare MAE with differing values of max_leaf_nodes\n",
    "def get_mae(max_leaf_nodes, X_train, X_test, y_train, y_test):\n",
    "    model = RandomForestRegressor(max_leaf_nodes=max_leaf_nodes, random_state=0)\n",
    "    model.fit(X_train, y_train)\n",
    "    y_pred = model.predict(X_test)\n",
    "    mae = mean_absolute_error(y_test,y_pred)\n",
    "    return(mae)"
   ]
  },
  {
   "cell_type": "code",
   "execution_count": null,
   "id": "20b67d55",
   "metadata": {},
   "outputs": [],
   "source": [
    "for max_leaf_nodes in [5, 50, 100, 300, 500, 700, 800, 850]:\n",
    "    my_mae = get_mae(max_leaf_nodes, X_train, X_test, y_train, y_test)\n",
    "    print(\"Max leaf nodes: %d  \\t\\t Mean Absolute Error:  %d\" %(max_leaf_nodes, my_mae))"
   ]
  },
  {
   "cell_type": "code",
   "execution_count": null,
   "id": "1eb0da29",
   "metadata": {},
   "outputs": [],
   "source": [
    "y_test"
   ]
  },
  {
   "cell_type": "code",
   "execution_count": null,
   "id": "3beafa89",
   "metadata": {},
   "outputs": [],
   "source": [
    "regressor = RandomForestRegressor(n_estimators=700, random_state=0)\n",
    "regressor.fit(X_train, y_train)\n",
    "y_pred = regressor.predict(X_test)"
   ]
  },
  {
   "cell_type": "code",
   "execution_count": null,
   "id": "034a70ce",
   "metadata": {},
   "outputs": [],
   "source": [
    "y_pred"
   ]
  },
  {
   "cell_type": "code",
   "execution_count": null,
   "id": "e843940c",
   "metadata": {},
   "outputs": [],
   "source": []
  },
  {
   "cell_type": "code",
   "execution_count": null,
   "id": "83939898",
   "metadata": {},
   "outputs": [],
   "source": []
  },
  {
   "cell_type": "code",
   "execution_count": null,
   "id": "8386614f",
   "metadata": {},
   "outputs": [],
   "source": []
  }
 ],
 "metadata": {
  "kernelspec": {
   "display_name": "Python 3 (ipykernel)",
   "language": "python",
   "name": "python3"
  },
  "language_info": {
   "codemirror_mode": {
    "name": "ipython",
    "version": 3
   },
   "file_extension": ".py",
   "mimetype": "text/x-python",
   "name": "python",
   "nbconvert_exporter": "python",
   "pygments_lexer": "ipython3",
   "version": "3.9.12"
  }
 },
 "nbformat": 4,
 "nbformat_minor": 5
}
