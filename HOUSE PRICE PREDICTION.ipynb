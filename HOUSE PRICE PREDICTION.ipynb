{
 "cells": [
  {
   "cell_type": "code",
   "execution_count": null,
   "id": "f07b8e97",
   "metadata": {},
   "outputs": [],
   "source": [
    "import numpy as np # linear algebra\n",
    "import pandas as pd # data processing, CSV file I/O (e.g. pd.read_csv)\n"
   ]
  },
  {
   "cell_type": "code",
   "execution_count": null,
   "id": "6798c63e",
   "metadata": {},
   "outputs": [],
   "source": [
    "import os\n",
    "for dirname, _, filenames in os.walk('/kaggle/input'):\n",
    "    for filename in filenames:\n",
    "        print(os.path.join(dirname, filename))\n"
   ]
  },
  {
   "cell_type": "code",
   "execution_count": null,
   "id": "5d34ff7b",
   "metadata": {},
   "outputs": [],
   "source": [
    "import pandas as pd\n",
    "import numpy as np\n",
    "import sklearn\n",
    "from sklearn.model_selection import train_test_split\n",
    "from sklearn.feature_selection import RFE\n",
    "from sklearn.linear_model import Ridge\n",
    "from sklearn.linear_model import Lasso\n",
    "from sklearn.model_selection import GridSearchCV\n",
    "from sklearn.preprocessing import StandardScaler\n",
    "from sklearn.preprocessing import MinMaxScaler\n",
    "from sklearn.preprocessing import OneHotEncoder\n",
    "from sklearn.metrics import r2_score\n",
    "import matplotlib.pyplot as plt\n",
    "import seaborn as sns\n",
    "from IPython.display import display \n",
    "import warnings\n",
    "warnings.filterwarnings('ignore')\n",
    "\n",
    "pd.set_option('display.max_columns', 200)\n",
    "pd.set_option('display.max_rows', 200)\n",
    "\n",
    "\n",
    "font= {'family': 'serif',\n",
    "        'color':  'darkred',\n",
    "        'weight': 'normal',\n",
    "        'size': 16,\n",
    "        }\n",
    "%config Completer.use_jedi = False"
   ]
  },
  {
   "cell_type": "code",
   "execution_count": null,
   "id": "f0178380",
   "metadata": {},
   "outputs": [],
   "source": [
    "df = pd.read_csv(\"C:\\Users\\MEGHA\\Downloads\\Project-Housing--2---1---1- (1)\\Project-Housing_splitted\\train.csv\")\n",
    "\n",
    "display(df.head())\n"
   ]
  },
  {
   "cell_type": "code",
   "execution_count": null,
   "id": "a22fd0ff",
   "metadata": {},
   "outputs": [],
   "source": [
    "display(df.shape)\n"
   ]
  },
  {
   "cell_type": "code",
   "execution_count": null,
   "id": "b4ca1e2f",
   "metadata": {},
   "outputs": [],
   "source": [
    "display(df.info())\n"
   ]
  },
  {
   "cell_type": "code",
   "execution_count": null,
   "id": "1fa7f363",
   "metadata": {},
   "outputs": [],
   "source": [
    "display(df.describe(include=\"all\"))"
   ]
  },
  {
   "cell_type": "code",
   "execution_count": null,
   "id": "ca066659",
   "metadata": {},
   "outputs": [],
   "source": [
    "# Checking for null percentages\n",
    "display(round(df.isnull().sum()/len(df.index) * 100,2))"
   ]
  },
  {
   "cell_type": "code",
   "execution_count": null,
   "id": "56e1f43b",
   "metadata": {},
   "outputs": [],
   "source": [
    "# removing features having high NA's (> 90%) and ID\n",
    "df = df.drop([\"PoolQC\",\"Fence\",\"MiscFeature\",\"Alley\",\"Id\"],axis=1,errors=\"ignore\")"
   ]
  },
  {
   "cell_type": "code",
   "execution_count": null,
   "id": "40eb3946",
   "metadata": {},
   "outputs": [],
   "source": [
    "#Checking values in Garage\n",
    "df[\"GarageType\"].value_counts(dropna=False)"
   ]
  },
  {
   "cell_type": "code",
   "execution_count": null,
   "id": "0f1a4e2b",
   "metadata": {},
   "outputs": [],
   "source": [
    "#Checking features where garage values are null\n",
    "garageVariables =  [\"GarageType\", \"GarageYrBlt\", \"GarageFinish\", \"GarageQual\",\"GarageCond\"]\n",
    "garage = df[df[\"GarageType\"].isnull()]\n",
    "display(garage.shape)\n",
    "garage.describe(include=\"all\")"
   ]
  },
  {
   "cell_type": "code",
   "execution_count": null,
   "id": "a496456a",
   "metadata": {},
   "outputs": [],
   "source": [
    "#Checking features where garage values are not null\n",
    "garage_not_null = df[~df[\"GarageType\"].isnull()]\n",
    "des = garage_not_null[['Street', 'Utilities','LandSlope', 'Condition2', 'RoofMatl','RoofStyle', 'MasVnrType', 'ExterQual', 'Heating', 'Functional'] + garageVariables].describe(include=\"object\")\n",
    "display(f'shape of the frame {garage_not_null.shape}')\n",
    "display(garage_not_null['GarageType'].value_counts())\n",
    "display(garage_not_null['GarageFinish'].value_counts())\n",
    "display(des)"
   ]
  },
  {
   "cell_type": "code",
   "execution_count": null,
   "id": "f366657d",
   "metadata": {},
   "outputs": [],
   "source": [
    "#Checking values in basement\n",
    "df[\"BsmtQual\"].value_counts(dropna=False)"
   ]
  },
  {
   "cell_type": "code",
   "execution_count": null,
   "id": "1ce8b526",
   "metadata": {},
   "outputs": [],
   "source": [
    "#Checking features where basement values are null\n",
    "basementVariables =  ['BsmtExposure', 'BsmtFinType2', 'BsmtQual', 'BsmtFinType1', 'BsmtCond']\n",
    "basement = df[df[\"BsmtQual\"].isnull()]\n",
    "display(basement.shape)\n",
    "basement.describe(include=\"all\")"
   ]
  },
  {
   "cell_type": "code",
   "execution_count": null,
   "id": "fe821666",
   "metadata": {},
   "outputs": [],
   "source": [
    "#Checking features where basement values are not null\n",
    "basement_not_null = df[~df[\"BsmtQual\"].isnull()]\n",
    "des = basement_not_null[['Street', 'Utilities','LandSlope', 'Condition2', 'RoofMatl','RoofStyle', 'MasVnrType', 'ExterQual', 'Heating', 'Functional'] + basementVariables].describe(include=\"object\")\n",
    "display(f'shape of the frame {basement_not_null.shape}')\n",
    "display(basement_not_null['BsmtQual'].value_counts())\n",
    "display(basement_not_null['BsmtQual'].value_counts())\n",
    "display(des)"
   ]
  },
  {
   "cell_type": "code",
   "execution_count": null,
   "id": "3689779a",
   "metadata": {},
   "outputs": [],
   "source": [
    "df[\"GarageYrBlt\"].median()"
   ]
  },
  {
   "cell_type": "code",
   "execution_count": null,
   "id": "93910d95",
   "metadata": {},
   "outputs": [],
   "source": [
    "#checking LotFrontage\n",
    "df[\"LotFrontage\"].describe()"
   ]
  },
  {
   "cell_type": "code",
   "execution_count": null,
   "id": "53ca553b",
   "metadata": {},
   "outputs": [],
   "source": [
    "# Checking Electrical values\n",
    "df[\"Electrical\"].value_counts()"
   ]
  },
  {
   "cell_type": "code",
   "execution_count": null,
   "id": "0859c6b2",
   "metadata": {},
   "outputs": [],
   "source": [
    "# checking fireplace\n",
    "df['FireplaceQu'].value_counts(dropna=False)"
   ]
  },
  {
   "cell_type": "code",
   "execution_count": null,
   "id": "77316865",
   "metadata": {},
   "outputs": [],
   "source": [
    "df['Fireplaces'].value_counts(dropna=False)"
   ]
  },
  {
   "cell_type": "code",
   "execution_count": null,
   "id": "67d1cc28",
   "metadata": {},
   "outputs": [],
   "source": [
    "df['MasVnrType'].value_counts(dropna=False)"
   ]
  },
  {
   "cell_type": "code",
   "execution_count": null,
   "id": "db85ba6f",
   "metadata": {},
   "outputs": [],
   "source": [
    "df['MasVnrArea'].median()"
   ]
  },
  {
   "cell_type": "code",
   "execution_count": null,
   "id": "243a937e",
   "metadata": {},
   "outputs": [],
   "source": [
    "garageYearMedian = df[\"GarageYrBlt\"].median()\n",
    "NoGarageColumns = [\"GarageType\",\"GarageFinish\",\"GarageQual\",\"GarageCond\"]\n",
    "df[\"GarageType\"].fillna('Attchd', inplace=True)\n",
    "df[\"GarageFinish\"].fillna('Unf', inplace=True)\n",
    "df[\"GarageQual\"].fillna('TA', inplace=True)\n",
    "df[\"GarageCond\"].fillna('TA', inplace=True)\n",
    "df[\"GarageYrBlt\"].fillna(garageYearMedian, inplace=True)\n",
    "\n",
    "NoBasementColumns = ['BsmtExposure', 'BsmtFinType2', 'BsmtQual', 'BsmtFinType1', 'BsmtCond']\n",
    "df['BsmtExposure'].fillna('No', inplace=True)\n",
    "df['BsmtFinType2'].fillna('Unf', inplace=True)\n",
    "df['BsmtQual'].fillna('TA', inplace=True)\n",
    "df['BsmtFinType1'].fillna('Unf', inplace=True)\n",
    "df['BsmtCond'].fillna('TA', inplace=True)\n",
    "\n",
    "df[\"Electrical\"].fillna('SBrkr', inplace=True)\n",
    "df['MasVnrType'].fillna('None', inplace=True)\n",
    "df['MasVnrArea'].fillna(0)\n",
    "    \n",
    "df.loc[df['Fireplaces'] == 0, 'FireplaceQu'] = df.loc[df['Fireplaces'] == 0, 'FireplaceQu'].fillna('NA')\n",
    "df.loc[df['Fireplaces'] >= 1, 'FireplaceQu'] = df.loc[df['Fireplaces'] >= 1, 'FireplaceQu'].fillna('Gd')\n",
    "\n",
    "lf_median = df['LotFrontage'].median()\n",
    "df[\"LotFrontage\"].fillna(lf_median, inplace=True)"
   ]
  },
  {
   "cell_type": "code",
   "execution_count": null,
   "id": "1a113246",
   "metadata": {},
   "outputs": [],
   "source": [
    "#checking again for null values\n",
    "display(round(df.isnull().sum()/len(df.index) * 100,2))"
   ]
  },
  {
   "cell_type": "code",
   "execution_count": null,
   "id": "ccac5a5b",
   "metadata": {},
   "outputs": [],
   "source": [
    "#dropping the small amount of null values remaning\n",
    "df = df.dropna()"
   ]
  },
  {
   "cell_type": "code",
   "execution_count": null,
   "id": "139d194a",
   "metadata": {},
   "outputs": [],
   "source": [
    "# converting types\n",
    "df.MSSubClass = df.MSSubClass.astype(object)\n",
    "\n",
    "# Label encoding \n",
    "df.CentralAir = pd.to_numeric(df.CentralAir.map({\"Y\":1,\"N\":0,0:0,1:1}))\n",
    "df.GarageYrBlt = df.GarageYrBlt.astype(str)\n",
    "df.YearBuilt = df.YearBuilt.astype(str)\n",
    "df.YearRemodAdd = df.YearRemodAdd.astype(str)\n",
    "df.GarageYrBlt = df.GarageYrBlt.astype(str)\n",
    "df.SalePrice = df.SalePrice.astype(\"float64\")\n",
    "\n",
    "# transforming the year sales to remove skwewness\n",
    "df[\"SalePrice\"] = np.log(df[\"SalePrice\"])\n",
    "minmax = MinMaxScaler()\n",
    "df[\"SalePrice\"] = minmax.fit_transform(df[\"SalePrice\"].values.reshape(-1, 1))"
   ]
  },
  {
   "cell_type": "code",
   "execution_count": null,
   "id": "0d22365b",
   "metadata": {},
   "outputs": [],
   "source": [
    "df.head()"
   ]
  },
  {
   "cell_type": "code",
   "execution_count": null,
   "id": "831d6000",
   "metadata": {},
   "outputs": [],
   "source": [
    "df"
   ]
  },
  {
   "cell_type": "code",
   "execution_count": null,
   "id": "8061ef14",
   "metadata": {},
   "outputs": [],
   "source": [
    "# Finding how many numerical and categorical features\n",
    "\n",
    "num_var = list(df.loc[:,df.dtypes != np.object].columns)\n",
    "cat_var = list(df.loc[:,df.dtypes == np.object].columns)\n",
    "print(len(cat_var),\" \",len(num_var))"
   ]
  },
  {
   "cell_type": "code",
   "execution_count": null,
   "id": "8dc1718f",
   "metadata": {},
   "outputs": [],
   "source": [
    "# Checking correlation\n",
    "plt.figure(figsize=(50, 50))\n",
    "sns.heatmap(df.corr(), annot = True, cmap=\"YlGnBu\")"
   ]
  },
  {
   "cell_type": "code",
   "execution_count": null,
   "id": "5ff2e31e",
   "metadata": {},
   "outputs": [],
   "source": [
    "#univariate_analysis \n",
    "#Categorical variables\n",
    "fig, axis = plt.subplots(21,2,figsize=(20,100))\n",
    "fig.tight_layout(pad=5.0)\n",
    "col_number = 0\n",
    "for i in range(0,21):\n",
    "    for j in range(0,2):\n",
    "        if (cat_var[col_number] != \"Id\"):\n",
    "            sns.countplot(ax=axis[i,j], x=df[cat_var[col_number]])\n",
    "            axis[i,j].set_xlabel(cat_var[col_number], fontsize=14);\n",
    "            axis[i,j].set_ylabel('Count', fontsize=14);\n",
    "            axis[i,j].set_title(f'Distribution of { cat_var[col_number] }', fontsize=16)\n",
    "        col_number += 1\n",
    "\n",
    "plt.show()"
   ]
  },
  {
   "cell_type": "code",
   "execution_count": null,
   "id": "5016bffd",
   "metadata": {},
   "outputs": [],
   "source": [
    "#plotting numeric data to find any pattern\n",
    "numericalDf = df[num_var]\n",
    "display(len(numericalDf.columns))\n",
    "plt.figure(figsize=(200, 200))\n",
    "sns.pairplot(numericalDf,y_vars=[\"SalePrice\"],x_vars=num_var[0:5])\n",
    "sns.pairplot(numericalDf,y_vars=[\"SalePrice\"],x_vars=num_var[5:10])\n",
    "sns.pairplot(numericalDf,y_vars=[\"SalePrice\"],x_vars=num_var[10:15])\n",
    "sns.pairplot(numericalDf,y_vars=[\"SalePrice\"],x_vars=num_var[15:20])\n",
    "sns.pairplot(numericalDf,y_vars=[\"SalePrice\"],x_vars=num_var[20:25])\n",
    "sns.pairplot(numericalDf,y_vars=[\"SalePrice\"],x_vars=num_var[25:30])\n",
    "sns.pairplot(numericalDf,y_vars=[\"SalePrice\"],x_vars=num_var[30:34])\n",
    "plt.show()"
   ]
  },
  {
   "cell_type": "code",
   "execution_count": null,
   "id": "4a5e3d52",
   "metadata": {},
   "outputs": [],
   "source": [
    "# Dropping Features that are highly correlated\n",
    "cor = df.corr().abs()\n",
    "upper_triangle = cor.where(np.triu(np.ones(cor.shape), k=1).astype(np.bool))\n",
    "highCorrelatedFeatures = [col for col in upper_triangle.columns if any(upper_triangle[col] > 0.90)]\n",
    "if(\"SalePrice\" in highCorrelatedFeatures):\n",
    "    highCorrelatedFeatures.remove(\"SalePrice\")\n",
    "df = df.drop(highCorrelatedFeatures,axis=1)\n",
    "for i in highCorrelatedFeatures:\n",
    "    num_var.remove(i)"
   ]
  },
  {
   "cell_type": "code",
   "execution_count": null,
   "id": "db2a25b1",
   "metadata": {},
   "outputs": [],
   "source": [
    "df.reset_index(inplace=True)\n",
    "df.head()"
   ]
  },
  {
   "cell_type": "code",
   "execution_count": null,
   "id": "27186ec3",
   "metadata": {},
   "outputs": [],
   "source": [
    "# # creating dummy encoding\n",
    "# df_dummy = pd.get_dummies(df[cat_var], drop_first=True)\n",
    "# masterDf = pd.concat([df, df_dummy], axis=1)\n",
    "# masterDf = masterDf.drop(cat_var,axis=1)\n",
    "ohc = OneHotEncoder(handle_unknown='ignore', drop='first')\n",
    "ohc.fit(df[cat_var])\n",
    "ohc.get_feature_names(cat_var)\n",
    "encoded_cat_var = pd.DataFrame(ohc.transform(df[cat_var]).toarray(), columns= ohc.get_feature_names(cat_var))\n",
    "masterDf = pd.concat([df, encoded_cat_var], axis=1)\n",
    "masterDf = masterDf.drop(cat_var,axis=1)\n",
    "# separating X and y\n",
    "y = masterDf.pop(\"SalePrice\")\n",
    "X = masterDf\n",
    "encoded_cat_var"
   ]
  },
  {
   "cell_type": "code",
   "execution_count": null,
   "id": "c8189b65",
   "metadata": {},
   "outputs": [],
   "source": [
    "masterDf"
   ]
  },
  {
   "cell_type": "code",
   "execution_count": null,
   "id": "feabe444",
   "metadata": {},
   "outputs": [],
   "source": [
    "# train and test split\n",
    "X_train, X_test, y_train, y_test = train_test_split(X, y, \n",
    "                                                    train_size=0.7,\n",
    "                                                    test_size = 0.3, random_state=100)"
   ]
  },
  {
   "cell_type": "code",
   "execution_count": null,
   "id": "9338ab38",
   "metadata": {},
   "outputs": [],
   "source": [
    "X_train"
   ]
  },
  {
   "cell_type": "code",
   "execution_count": null,
   "id": "a0a93837",
   "metadata": {},
   "outputs": [],
   "source": [
    "# Scaling variables\n",
    "scaler = StandardScaler();\n",
    "if 'SalePrice' in num_var:\n",
    "    num_var.remove(\"SalePrice\")\n",
    "X_train[num_var]= scaler.fit_transform(X_train[num_var]) # fit transform for train data\n",
    "X_test[num_var] = scaler.transform(X_test[num_var]) # transfrom for test data"
   ]
  },
  {
   "cell_type": "code",
   "execution_count": null,
   "id": "e19408b1",
   "metadata": {},
   "outputs": [],
   "source": [
    "# Hyperparameter tuning using Lasso Regression\n",
    "params = {'alpha': [0.00019,0.00021,0.00023,0.00025,0.00027,0.00030,0.00033,0.00034,0.00035]}\n",
    "\n",
    "lasso = Lasso(selection=\"random\")\n",
    "folds = 5\n",
    "model_cv = GridSearchCV(estimator = lasso, \n",
    "                        param_grid = params, \n",
    "                        scoring= 'neg_mean_absolute_error', \n",
    "                        cv = folds, \n",
    "                        return_train_score=True,\n",
    "                        verbose = 1,n_jobs=-1)            \n",
    "model_cv.fit(X_train, y_train)"
   ]
  },
  {
   "cell_type": "code",
   "execution_count": null,
   "id": "7bb442f1",
   "metadata": {},
   "outputs": [],
   "source": [
    "print(model_cv.best_params_)\n",
    "print(model_cv.best_score_)"
   ]
  },
  {
   "cell_type": "code",
   "execution_count": null,
   "id": "5f82b284",
   "metadata": {},
   "outputs": [],
   "source": [
    "cv_results = pd.DataFrame(model_cv.cv_results_)\n",
    "cv_results = cv_results[cv_results['param_alpha']<=400]\n",
    "\n",
    "# plotting mean test and train scoes with alpha \n",
    "cv_results['param_alpha'] = cv_results['param_alpha'].astype('float32')\n",
    "\n",
    "# plotting\n",
    "plt.figure(figsize=(10,10))\n",
    "plt.plot(cv_results['param_alpha'], cv_results['mean_train_score'])\n",
    "plt.plot(cv_results['param_alpha'], cv_results['mean_test_score'])\n",
    "plt.xlabel('alpha')\n",
    "plt.ylabel('Negative Mean Absolute Error')\n",
    "\n",
    "plt.title(\"Negative Mean Absolute Error and alpha\")\n",
    "plt.legend(['train score', 'test score'], loc='upper left')\n",
    "plt.show()"
   ]
  },
  {
   "cell_type": "code",
   "execution_count": null,
   "id": "57c960ab",
   "metadata": {},
   "outputs": [],
   "source": [
    "# at alpha = 0.0019, the curve starts to be more flat \n",
    "alpha_l =  0.00019\n",
    "lasso1 = Lasso(alpha = alpha_l)\n",
    "lasso1.fit(X_train,y_train)\n",
    "display(lasso1.score(X_train,y_train))\n",
    "l_train = lasso1.score(X_train,y_train)"
   ]
  },
  {
   "cell_type": "code",
   "execution_count": null,
   "id": "4915b8a9",
   "metadata": {},
   "outputs": [],
   "source": [
    "# Residual Analysis\n",
    "y_train_pred = lasso1.predict(X_train)\n",
    "res = y_train - y_train_pred\n",
    "sns.distplot(res)"
   ]
  },
  {
   "cell_type": "code",
   "execution_count": null,
   "id": "475539ae",
   "metadata": {},
   "outputs": [],
   "source": [
    "# testing on test set\n",
    "y_test_pred = lasso1.predict(X_test)\n",
    "l_test = r2_score(y_true=y_test,y_pred=y_test_pred)\n",
    "l_test"
   ]
  },
  {
   "cell_type": "code",
   "execution_count": null,
   "id": "e46c7b05",
   "metadata": {},
   "outputs": [],
   "source": [
    "# Hyperparameter tuning using Ridge Regression\n",
    "params = {'alpha': [8 ,9,10, 11, 12, 13, 14, 15, 16, 17, 18, 19, 20, 21, 22, 23, 25, 27, 30, 31, 33]}\n",
    "\n",
    "ridge = Ridge()\n",
    "folds = 5\n",
    "model_cv = GridSearchCV(estimator = ridge, \n",
    "                        param_grid = params, \n",
    "                        scoring= 'neg_mean_absolute_error', \n",
    "                        cv = folds, \n",
    "                        return_train_score=True,\n",
    "                        verbose = 1,n_jobs=-1)            \n",
    "model_cv.fit(X_train, y_train) "
   ]
  },
  {
   "cell_type": "code",
   "execution_count": null,
   "id": "05c87f1d",
   "metadata": {},
   "outputs": [],
   "source": [
    "print(model_cv.best_params_)\n",
    "print(model_cv.best_score_)"
   ]
  },
  {
   "cell_type": "code",
   "execution_count": null,
   "id": "c4eacefb",
   "metadata": {},
   "outputs": [],
   "source": [
    "cv_results = pd.DataFrame(model_cv.cv_results_)\n",
    "cv_results = cv_results[cv_results['param_alpha']<=200]\n",
    "\n",
    "# plotting mean test and train scoes with alpha \n",
    "cv_results['param_alpha'] = cv_results['param_alpha'].astype('float32')\n",
    "\n",
    "# plotting\n",
    "plt.figure(figsize=(10,10))\n",
    "plt.plot(cv_results['param_alpha'], cv_results['mean_train_score'])\n",
    "plt.plot(cv_results['param_alpha'], cv_results['mean_test_score'])\n",
    "plt.xlabel('alpha')\n",
    "plt.ylabel('Negative Mean Absolute Error')\n",
    "\n",
    "plt.title(\"Negative Mean Absolute Error and alpha\")\n",
    "plt.legend(['train score', 'test score'], loc='upper left')\n",
    "plt.show()"
   ]
  },
  {
   "cell_type": "code",
   "execution_count": null,
   "id": "a0e96808",
   "metadata": {},
   "outputs": [],
   "source": [
    "# Around 14-15 the test score plateaus\n",
    "alpha_r =  10\n",
    "ridge1 = Ridge(alpha = alpha_l)\n",
    "ridge1.fit(X_train,y_train)\n",
    "display(ridge1.score(X_train,y_train))\n",
    "r_train = ridge1.score(X_train,y_train)"
   ]
  },
  {
   "cell_type": "code",
   "execution_count": null,
   "id": "c9ec73a3",
   "metadata": {},
   "outputs": [],
   "source": [
    "# Residual Analysis\n",
    "y_train_pred = ridge1.predict(X_train)\n",
    "res = y_train - y_train_pred\n",
    "sns.distplot(res)"
   ]
  },
  {
   "cell_type": "code",
   "execution_count": null,
   "id": "b4ba10b1",
   "metadata": {},
   "outputs": [],
   "source": [
    "# testing on test set\n",
    "y_test_pred = ridge1.predict(X_test)\n",
    "r_test = r2_score(y_true=y_test,y_pred=y_test_pred)\n",
    "r_test"
   ]
  },
  {
   "cell_type": "code",
   "execution_count": null,
   "id": "48507a78",
   "metadata": {},
   "outputs": [],
   "source": [
    "# we will be using lasso to find predictions\n",
    "# Loading the test set \n",
    "df_t = pd.read_csv(\"../input/house-prices-advanced-regression-techniques/test.csv\")\n",
    "\n",
    "display(df_t.head())"
   ]
  },
  {
   "cell_type": "code",
   "execution_count": null,
   "id": "e7a69304",
   "metadata": {},
   "outputs": [],
   "source": [
    "df_t"
   ]
  },
  {
   "cell_type": "code",
   "execution_count": null,
   "id": "9bcead55",
   "metadata": {},
   "outputs": [],
   "source": [
    "#checking again for null values\n",
    "display(round(df_t.isnull().sum()/len(df_t.index) * 100,2))"
   ]
  },
  {
   "cell_type": "code",
   "execution_count": null,
   "id": "7ddba312",
   "metadata": {},
   "outputs": [],
   "source": [
    "# Doing all the preprocessing on the test set\n",
    "Id = df_t[\"Id\"].copy()\n",
    "df_t = df_t.drop([\"PoolQC\",\"Fence\",\"MiscFeature\",\"Alley\",\"Id\"],axis=1)\n",
    "NoGarageColumns = [\"GarageType\",\"GarageFinish\",\"GarageQual\",\"GarageCond\"]\n",
    "df_t[\"GarageType\"].fillna('Attchd', inplace=True)\n",
    "df_t[\"GarageFinish\"].fillna('Unf', inplace=True)\n",
    "df_t[\"GarageQual\"].fillna('TA', inplace=True)\n",
    "df_t[\"GarageCond\"].fillna('TA', inplace=True)\n",
    "df_t[\"GarageYrBlt\"].fillna(0,inplace=True)\n",
    "\n",
    "NoBasementColumns = ['BsmtExposure', 'BsmtFinType2', 'BsmtQual', 'BsmtFinType1', 'BsmtCond']\n",
    "df_t['BsmtExposure'].fillna('No', inplace=True)\n",
    "df_t['BsmtFinType2'].fillna('Unf', inplace=True)\n",
    "df_t['BsmtQual'].fillna('TA', inplace=True)\n",
    "df_t['BsmtFinType1'].fillna('Unf', inplace=True)\n",
    "df_t['BsmtCond'].fillna('TA', inplace=True)\n",
    "    \n",
    "df_t['FireplaceQu'] = df_t['FireplaceQu'].fillna('No Fireplace')\n",
    "df_t['Utilities'] = df_t['Utilities'].fillna('AllPub')\n",
    "df_t['MSZoning'] = df_t['MSZoning'].fillna('RL')\n",
    "df_t['Exterior1st'] = df_t['Exterior1st'].fillna('VinylSd')\n",
    "df_t['Exterior2nd'] = df_t['Exterior2nd'].fillna('VinylSd')\n",
    "df_t['MasVnrType'] = df_t['MasVnrType'].fillna('None')\n",
    "\n",
    "\n",
    "df_t[\"LotFrontage\"] = df_t[\"LotFrontage\"].fillna(median)\n",
    "df_t[\"MasVnrArea\"] = df_t[\"MasVnrArea\"].fillna(0.0)\n",
    "\n",
    "df_t[\"Electrical\"].fillna('SBrkr', inplace=True)\n",
    "    \n",
    "df_t.loc[df['Fireplaces'] == 0, 'FireplaceQu'] = df_t.loc[df['Fireplaces'] == 0, 'FireplaceQu'].fillna('NA')\n",
    "df_t.loc[df['Fireplaces'] >= 1, 'FireplaceQu'] = df_t.loc[df['Fireplaces'] >= 1, 'FireplaceQu'].fillna('Gd')\n",
    "\n",
    "\n",
    "\n",
    "# converting types\n",
    "df_t.MSSubClass = df_t.MSSubClass.astype(object)\n",
    "\n",
    "# Label encoding \n",
    "df_t.CentralAir = pd.to_numeric(df_t.CentralAir.map({\"Y\":1,\"N\":0,0:0,1:1}))\n",
    "\n",
    "df_t.GarageYrBlt = df_t.GarageYrBlt.astype(str)\n",
    "df_t.YearBuilt = df_t.YearBuilt.astype(str)\n",
    "df_t.YearRemodAdd = df_t.YearRemodAdd.astype(str)\n",
    "df_t.GarageYrBlt = df_t.GarageYrBlt.astype(str)\n",
    "\n",
    "df_t = df_t.drop(highCorrelatedFeatures,axis=1)"
   ]
  },
  {
   "cell_type": "code",
   "execution_count": null,
   "id": "7d847e94",
   "metadata": {},
   "outputs": [],
   "source": [
    "df_t"
   ]
  },
  {
   "cell_type": "code",
   "execution_count": null,
   "id": "8cc3f00f",
   "metadata": {},
   "outputs": [],
   "source": [
    "#checking again for null values\n",
    "display(round(df_t.isnull().sum()/len(df_t.index) * 100,2))"
   ]
  },
  {
   "cell_type": "code",
   "execution_count": null,
   "id": "50dee30b",
   "metadata": {},
   "outputs": [],
   "source": [
    "df_t[\"SaleType\"].value_counts()"
   ]
  },
  {
   "cell_type": "code",
   "execution_count": null,
   "id": "9e25cb8d",
   "metadata": {},
   "outputs": [],
   "source": [
    "# Preprocessing the remaning values\n",
    "zero_value_imputes = [\"BsmtFinSF1\",\"BsmtFinSF2\",\"BsmtUnfSF\",\"TotalBsmtSF\",\"BsmtFullBath\",\"BsmtHalfBath\"]\n",
    "\n",
    "df_t[zero_value_imputes] = df_t[zero_value_imputes].fillna(0.0)\n",
    "\n",
    "df_t[\"KitchenQual\"] = df_t[\"KitchenQual\"].fillna(\"TA\")\n",
    "df_t[\"Functional\"] = df_t[\"Functional\"].fillna(\"Typ\")\n",
    "df_t[\"GarageCars\"] = df_t[\"GarageCars\"].fillna(2.0)\n",
    "df_t[\"SaleType\"] = df_t[\"SaleType\"].fillna(\"WD\")\n",
    "df_t.reset_index(inplace = True)\n",
    "df_t"
   ]
  },
  {
   "cell_type": "code",
   "execution_count": null,
   "id": "96cc5a0c",
   "metadata": {},
   "outputs": [],
   "source": [
    "#Creating Dummy variables\n",
    "df_dummy = pd.DataFrame(ohc.transform(df_t[cat_var]).toarray(), columns= ohc.get_feature_names(cat_var))\n",
    "masterDf_t = pd.concat([df_t, df_dummy], axis=1)\n",
    "masterDf_t = masterDf_t.drop(cat_var,axis=1)\n",
    "masterDf_t[num_var] = scaler.transform(masterDf_t[num_var])"
   ]
  },
  {
   "cell_type": "code",
   "execution_count": null,
   "id": "7b8147b6",
   "metadata": {},
   "outputs": [],
   "source": [
    "masterDf_t = masterDf_t.fillna(0)\n",
    "masterDf_t"
   ]
  },
  {
   "cell_type": "code",
   "execution_count": null,
   "id": "a3c877c8",
   "metadata": {},
   "outputs": [],
   "source": [
    "y_test_pred = lasso1.predict(masterDf_t)\n",
    "y_test_pred = np.reshape(y_test_pred,(-1,1))\n",
    "display(y_test_pred)"
   ]
  },
  {
   "cell_type": "code",
   "execution_count": null,
   "id": "4d58a92e",
   "metadata": {},
   "outputs": [],
   "source": [
    "y_test_pred_value_log = minmax.inverse_transform(y_test_pred)\n",
    "y_test_pred_values = np.exp(y_test_pred_value_log)"
   ]
  },
  {
   "cell_type": "code",
   "execution_count": null,
   "id": "831afe5e",
   "metadata": {},
   "outputs": [],
   "source": [
    "y_test_pred_values.flatten()\n",
    "predictions_test = pd.DataFrame({\"Id\":Id, \"SalePrice\":y_test_pred_values[:,0]})\n",
    "predictions_test.to_csv(\"submission.csv\",index=False)\n",
    "print(\"Your submission was successfully saved!\")"
   ]
  },
  {
   "cell_type": "code",
   "execution_count": null,
   "id": "79204778",
   "metadata": {},
   "outputs": [],
   "source": []
  },
  {
   "cell_type": "code",
   "execution_count": null,
   "id": "f0528363",
   "metadata": {},
   "outputs": [],
   "source": []
  },
  {
   "cell_type": "code",
   "execution_count": null,
   "id": "bc57247f",
   "metadata": {},
   "outputs": [],
   "source": []
  },
  {
   "cell_type": "code",
   "execution_count": null,
   "id": "9bd8f5b4",
   "metadata": {},
   "outputs": [],
   "source": []
  },
  {
   "cell_type": "code",
   "execution_count": null,
   "id": "164f2f7f",
   "metadata": {},
   "outputs": [],
   "source": []
  },
  {
   "cell_type": "code",
   "execution_count": null,
   "id": "f701529d",
   "metadata": {},
   "outputs": [],
   "source": []
  },
  {
   "cell_type": "code",
   "execution_count": null,
   "id": "4c78396c",
   "metadata": {},
   "outputs": [],
   "source": []
  },
  {
   "cell_type": "code",
   "execution_count": null,
   "id": "b2020d47",
   "metadata": {},
   "outputs": [],
   "source": []
  },
  {
   "cell_type": "code",
   "execution_count": null,
   "id": "45e63a6b",
   "metadata": {},
   "outputs": [],
   "source": []
  },
  {
   "cell_type": "code",
   "execution_count": null,
   "id": "0c30390d",
   "metadata": {},
   "outputs": [],
   "source": []
  },
  {
   "cell_type": "code",
   "execution_count": null,
   "id": "04301b18",
   "metadata": {},
   "outputs": [],
   "source": []
  },
  {
   "cell_type": "code",
   "execution_count": null,
   "id": "6b9ff4d0",
   "metadata": {},
   "outputs": [],
   "source": []
  },
  {
   "cell_type": "code",
   "execution_count": null,
   "id": "dbd75ea4",
   "metadata": {},
   "outputs": [],
   "source": []
  }
 ],
 "metadata": {
  "kernelspec": {
   "display_name": "Python 3 (ipykernel)",
   "language": "python",
   "name": "python3"
  },
  "language_info": {
   "codemirror_mode": {
    "name": "ipython",
    "version": 3
   },
   "file_extension": ".py",
   "mimetype": "text/x-python",
   "name": "python",
   "nbconvert_exporter": "python",
   "pygments_lexer": "ipython3",
   "version": "3.9.12"
  }
 },
 "nbformat": 4,
 "nbformat_minor": 5
}
